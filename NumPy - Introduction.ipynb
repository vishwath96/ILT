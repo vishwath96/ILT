{
 "cells": [
  {
   "cell_type": "markdown",
   "id": "b7a4399a",
   "metadata": {},
   "source": [
    "# Installing and Importing NumPy"
   ]
  },
  {
   "cell_type": "code",
   "execution_count": null,
   "id": "e8bbaafc",
   "metadata": {},
   "outputs": [],
   "source": [
    "## https://github.com/numpy/numpy"
   ]
  },
  {
   "cell_type": "code",
   "execution_count": null,
   "id": "f6fe0eb6",
   "metadata": {},
   "outputs": [],
   "source": [
    "##!conda install numpy --y"
   ]
  },
  {
   "cell_type": "code",
   "execution_count": 1,
   "id": "2b1a0658",
   "metadata": {},
   "outputs": [],
   "source": [
    "import numpy as np"
   ]
  },
  {
   "cell_type": "markdown",
   "id": "abc7c02a",
   "metadata": {},
   "source": [
    "# Creating a simple NumPy array using np.array"
   ]
  },
  {
   "cell_type": "code",
   "execution_count": 2,
   "id": "5bab5205",
   "metadata": {},
   "outputs": [
    {
     "name": "stdout",
     "output_type": "stream",
     "text": [
      "['a', 100, 0.5]\n"
     ]
    }
   ],
   "source": [
    "python_list = ['a',100,0.5]\n",
    "print(python_list)\n",
    "\n"
   ]
  },
  {
   "cell_type": "code",
   "execution_count": 3,
   "id": "73e67e2c",
   "metadata": {},
   "outputs": [
    {
     "data": {
      "text/plain": [
       "array([1, 2, 3])"
      ]
     },
     "execution_count": 3,
     "metadata": {},
     "output_type": "execute_result"
    }
   ],
   "source": [
    "numpy_array = np.array([1,2,3])\n",
    "numpy_array"
   ]
  },
  {
   "cell_type": "code",
   "execution_count": 4,
   "id": "96097739",
   "metadata": {},
   "outputs": [
    {
     "data": {
      "text/plain": [
       "numpy.ndarray"
      ]
     },
     "execution_count": 4,
     "metadata": {},
     "output_type": "execute_result"
    }
   ],
   "source": [
    "type(numpy_array)"
   ]
  },
  {
   "cell_type": "code",
   "execution_count": 5,
   "id": "c286d6b3",
   "metadata": {},
   "outputs": [
    {
     "data": {
      "text/plain": [
       "numpy.int64"
      ]
     },
     "execution_count": 5,
     "metadata": {},
     "output_type": "execute_result"
    }
   ],
   "source": [
    "type(numpy_array[0])"
   ]
  },
  {
   "cell_type": "markdown",
   "id": "6cfb546a",
   "metadata": {},
   "source": [
    "# Types of Arrays and Visualization"
   ]
  },
  {
   "cell_type": "code",
   "execution_count": 7,
   "id": "17e9f595",
   "metadata": {},
   "outputs": [
    {
     "data": {
      "text/plain": [
       "(3,)"
      ]
     },
     "execution_count": 7,
     "metadata": {},
     "output_type": "execute_result"
    }
   ],
   "source": [
    "## 1D Array, 2D Array, 3D or nD\n",
    "a = np.array([1,2,3])\n",
    "\n",
    "a.shape\n"
   ]
  },
  {
   "cell_type": "code",
   "execution_count": 10,
   "id": "c99890d8",
   "metadata": {},
   "outputs": [
    {
     "data": {
      "text/plain": [
       "(2, 3)"
      ]
     },
     "execution_count": 10,
     "metadata": {},
     "output_type": "execute_result"
    }
   ],
   "source": [
    "two_array = np.array([[1,2,3],[4,5,6]])\n",
    "two_array\n",
    "\n",
    "two_array.shape"
   ]
  },
  {
   "cell_type": "code",
   "execution_count": 12,
   "id": "0680285c",
   "metadata": {},
   "outputs": [
    {
     "data": {
      "text/plain": [
       "array([[[1, 2, 3],\n",
       "        [4, 5, 6],\n",
       "        [6, 7, 8]]])"
      ]
     },
     "execution_count": 12,
     "metadata": {},
     "output_type": "execute_result"
    }
   ],
   "source": [
    "three_array = np.array([[[1,2,3],[4,5,6],[6,7,8]]])\n",
    "three_array"
   ]
  },
  {
   "cell_type": "code",
   "execution_count": 13,
   "id": "1b19b387",
   "metadata": {},
   "outputs": [
    {
     "data": {
      "text/plain": [
       "(1, 3, 3)"
      ]
     },
     "execution_count": 13,
     "metadata": {},
     "output_type": "execute_result"
    }
   ],
   "source": [
    "three_array.shape"
   ]
  },
  {
   "cell_type": "code",
   "execution_count": 15,
   "id": "48e30046",
   "metadata": {},
   "outputs": [
    {
     "data": {
      "text/plain": [
       "1"
      ]
     },
     "execution_count": 15,
     "metadata": {},
     "output_type": "execute_result"
    }
   ],
   "source": [
    "a[0]"
   ]
  },
  {
   "cell_type": "markdown",
   "id": "c8c990cf",
   "metadata": {},
   "source": [
    "# Array Initialization"
   ]
  },
  {
   "cell_type": "code",
   "execution_count": 18,
   "id": "46b2fa84",
   "metadata": {},
   "outputs": [
    {
     "name": "stdout",
     "output_type": "stream",
     "text": [
      "[[0. 0.]] (1, 2)\n"
     ]
    }
   ],
   "source": [
    "zeros = np.zeros((1,2))\n",
    "zeros\n",
    "print(zeros, zeros.shape)"
   ]
  },
  {
   "cell_type": "code",
   "execution_count": 19,
   "id": "10ba92d1",
   "metadata": {},
   "outputs": [
    {
     "name": "stdout",
     "output_type": "stream",
     "text": [
      "[[1. 1.]] (1, 2)\n"
     ]
    }
   ],
   "source": [
    "ones = np.ones((1,2))\n",
    "print(ones,ones.shape)"
   ]
  },
  {
   "cell_type": "markdown",
   "id": "b021c30d",
   "metadata": {},
   "source": [
    "# Arranging Numbers Between 2 Values with Interval of X - arange"
   ]
  },
  {
   "cell_type": "code",
   "execution_count": 21,
   "id": "95de01c0",
   "metadata": {},
   "outputs": [
    {
     "data": {
      "text/plain": [
       "array([0, 1, 2, 3, 4])"
      ]
     },
     "execution_count": 21,
     "metadata": {},
     "output_type": "execute_result"
    }
   ],
   "source": [
    "## Line Segment\n",
    "\n",
    "a = np.arange(5)\n",
    "a"
   ]
  },
  {
   "cell_type": "code",
   "execution_count": 23,
   "id": "56349161",
   "metadata": {},
   "outputs": [
    {
     "data": {
      "text/plain": [
       "array([ 0,  4,  8, 12, 16])"
      ]
     },
     "execution_count": 23,
     "metadata": {},
     "output_type": "execute_result"
    }
   ],
   "source": [
    "a = np.arange(0,20,4)\n",
    "a"
   ]
  },
  {
   "cell_type": "code",
   "execution_count": 24,
   "id": "9d33ee33",
   "metadata": {},
   "outputs": [
    {
     "data": {
      "text/plain": [
       "array([-1, -3, -5, -7, -9])"
      ]
     },
     "execution_count": 24,
     "metadata": {},
     "output_type": "execute_result"
    }
   ],
   "source": [
    "negative = np.arange(-1,-10,-2)\n",
    "negative"
   ]
  },
  {
   "cell_type": "markdown",
   "id": "6e006018",
   "metadata": {},
   "source": [
    "# Arranging 'z' Numbers Between 2 Values - linspace"
   ]
  },
  {
   "cell_type": "code",
   "execution_count": 27,
   "id": "34f84586",
   "metadata": {},
   "outputs": [
    {
     "data": {
      "text/plain": [
       "array([ 0.,  2.,  4.,  6.,  8., 10.])"
      ]
     },
     "execution_count": 27,
     "metadata": {},
     "output_type": "execute_result"
    }
   ],
   "source": [
    "## Converse of arange\n",
    "\n",
    "lin_space = np.linspace(0,10,6)\n",
    "lin_space"
   ]
  },
  {
   "cell_type": "markdown",
   "id": "68154dd1",
   "metadata": {},
   "source": [
    "# Creating Arrays of N Dimension Using Same Numbers - fill"
   ]
  },
  {
   "cell_type": "code",
   "execution_count": 31,
   "id": "3a115506",
   "metadata": {},
   "outputs": [
    {
     "data": {
      "text/plain": [
       "array([[5, 5],\n",
       "       [5, 5]])"
      ]
     },
     "execution_count": 31,
     "metadata": {},
     "output_type": "execute_result"
    }
   ],
   "source": [
    "fill_array = np.full((2,2),5)\n",
    "fill_array"
   ]
  },
  {
   "cell_type": "markdown",
   "id": "78196d20",
   "metadata": {},
   "source": [
    "# Creating Arrays of N Dimension Using Random Numbers - random.random"
   ]
  },
  {
   "cell_type": "code",
   "execution_count": 32,
   "id": "1443b8ba",
   "metadata": {},
   "outputs": [
    {
     "data": {
      "text/plain": [
       "array([[0.07708899, 0.97578526],\n",
       "       [0.08130605, 0.42821473]])"
      ]
     },
     "execution_count": 32,
     "metadata": {},
     "output_type": "execute_result"
    }
   ],
   "source": [
    "random = np.random.random((2,2))\n",
    "random"
   ]
  },
  {
   "cell_type": "markdown",
   "id": "cb6a7859",
   "metadata": {},
   "source": [
    "# Creating Arrays of N Dimension Using Random Numbers - random.randint"
   ]
  },
  {
   "cell_type": "code",
   "execution_count": 140,
   "id": "f35fd1b5",
   "metadata": {},
   "outputs": [
    {
     "data": {
      "text/plain": [
       "array([[5, 4],\n",
       "       [1, 2],\n",
       "       [1, 6],\n",
       "       [2, 9],\n",
       "       [2, 1],\n",
       "       [4, 3],\n",
       "       [6, 5],\n",
       "       [8, 3],\n",
       "       [3, 8],\n",
       "       [9, 2],\n",
       "       [6, 1],\n",
       "       [0, 1],\n",
       "       [7, 4],\n",
       "       [0, 1],\n",
       "       [7, 6]])"
      ]
     },
     "execution_count": 140,
     "metadata": {},
     "output_type": "execute_result"
    }
   ],
   "source": [
    "randint = np.random.randint(low=0,high=10,size=(15,2))\n",
    "randint"
   ]
  },
  {
   "cell_type": "markdown",
   "id": "fdbbf448",
   "metadata": {},
   "source": [
    "# Finding Shape of an Array - np.shape"
   ]
  },
  {
   "cell_type": "code",
   "execution_count": 37,
   "id": "731cd34e",
   "metadata": {},
   "outputs": [
    {
     "name": "stdout",
     "output_type": "stream",
     "text": [
      "[ 0  4  8 12 16]\n"
     ]
    },
    {
     "data": {
      "text/plain": [
       "(5,)"
      ]
     },
     "execution_count": 37,
     "metadata": {},
     "output_type": "execute_result"
    }
   ],
   "source": [
    "print(a)\n",
    "\n",
    "a.shape"
   ]
  },
  {
   "cell_type": "markdown",
   "id": "427f4f0c",
   "metadata": {},
   "source": [
    "# Reshaping an Array - np.shape"
   ]
  },
  {
   "cell_type": "code",
   "execution_count": 44,
   "id": "eeea3c0f",
   "metadata": {},
   "outputs": [
    {
     "name": "stdout",
     "output_type": "stream",
     "text": [
      "[[[ 0  1]\n",
      "  [ 2  3]]\n",
      "\n",
      " [[ 4  5]\n",
      "  [ 6  7]]\n",
      "\n",
      " [[ 8  9]\n",
      "  [10 11]]\n",
      "\n",
      " [[12 13]\n",
      "  [14 15]]\n",
      "\n",
      " [[16 17]\n",
      "  [18 19]]\n",
      "\n",
      " [[20 21]\n",
      "  [22 23]]]\n"
     ]
    }
   ],
   "source": [
    "a = np.arange(24)\n",
    "# print(a)\n",
    "\n"
   ]
  },
  {
   "cell_type": "code",
   "execution_count": 45,
   "id": "094d29cf",
   "metadata": {},
   "outputs": [
    {
     "data": {
      "text/plain": [
       "array([[ 0,  1],\n",
       "       [ 2,  3],\n",
       "       [ 4,  5],\n",
       "       [ 6,  7],\n",
       "       [ 8,  9],\n",
       "       [10, 11],\n",
       "       [12, 13],\n",
       "       [14, 15],\n",
       "       [16, 17],\n",
       "       [18, 19],\n",
       "       [20, 21],\n",
       "       [22, 23]])"
      ]
     },
     "execution_count": 45,
     "metadata": {},
     "output_type": "execute_result"
    }
   ],
   "source": [
    "a.shape = (12,2)\n",
    "a"
   ]
  },
  {
   "cell_type": "code",
   "execution_count": null,
   "id": "d0d65dc0",
   "metadata": {},
   "outputs": [],
   "source": []
  },
  {
   "cell_type": "markdown",
   "id": "34d4cda0",
   "metadata": {},
   "source": [
    "# Reshaping an Array - reshape"
   ]
  },
  {
   "cell_type": "code",
   "execution_count": 47,
   "id": "aad0545f",
   "metadata": {},
   "outputs": [
    {
     "name": "stdout",
     "output_type": "stream",
     "text": [
      "[[[ 0  1]\n",
      "  [ 2  3]]\n",
      "\n",
      " [[ 4  5]\n",
      "  [ 6  7]]\n",
      "\n",
      " [[ 8  9]\n",
      "  [10 11]]\n",
      "\n",
      " [[12 13]\n",
      "  [14 15]]\n",
      "\n",
      " [[16 17]\n",
      "  [18 19]]\n",
      "\n",
      " [[20 21]\n",
      "  [22 23]]]\n"
     ]
    }
   ],
   "source": [
    "b = a.reshape(6,2,2)\n",
    "print(b)"
   ]
  },
  {
   "cell_type": "markdown",
   "id": "b134eecf",
   "metadata": {},
   "source": [
    "# Finding Size of an Array - size"
   ]
  },
  {
   "cell_type": "code",
   "execution_count": 48,
   "id": "ed7a0753",
   "metadata": {},
   "outputs": [],
   "source": [
    "a = np.arange(24)"
   ]
  },
  {
   "cell_type": "code",
   "execution_count": 51,
   "id": "0ac57344",
   "metadata": {},
   "outputs": [
    {
     "data": {
      "text/plain": [
       "array([[ 0,  1],\n",
       "       [ 2,  3],\n",
       "       [ 4,  5],\n",
       "       [ 6,  7],\n",
       "       [ 8,  9],\n",
       "       [10, 11],\n",
       "       [12, 13],\n",
       "       [14, 15],\n",
       "       [16, 17],\n",
       "       [18, 19],\n",
       "       [20, 21],\n",
       "       [22, 23]])"
      ]
     },
     "execution_count": 51,
     "metadata": {},
     "output_type": "execute_result"
    }
   ],
   "source": [
    "b = np.arange(24).reshape(12,2)\n",
    "b"
   ]
  },
  {
   "cell_type": "code",
   "execution_count": 49,
   "id": "5dc96d83",
   "metadata": {},
   "outputs": [
    {
     "data": {
      "text/plain": [
       "24"
      ]
     },
     "execution_count": 49,
     "metadata": {},
     "output_type": "execute_result"
    }
   ],
   "source": [
    "a.size"
   ]
  },
  {
   "cell_type": "code",
   "execution_count": 52,
   "id": "c98b3f8a",
   "metadata": {},
   "outputs": [
    {
     "data": {
      "text/plain": [
       "12"
      ]
     },
     "execution_count": 52,
     "metadata": {},
     "output_type": "execute_result"
    }
   ],
   "source": [
    "len(b)"
   ]
  },
  {
   "cell_type": "markdown",
   "id": "f16c0826",
   "metadata": {},
   "source": [
    "# Finding Dimension of an Array - ndim"
   ]
  },
  {
   "cell_type": "code",
   "execution_count": 53,
   "id": "8988da30",
   "metadata": {},
   "outputs": [
    {
     "data": {
      "text/plain": [
       "2"
      ]
     },
     "execution_count": 53,
     "metadata": {},
     "output_type": "execute_result"
    }
   ],
   "source": [
    "b.ndim\n"
   ]
  },
  {
   "cell_type": "markdown",
   "id": "ed07d029",
   "metadata": {},
   "source": [
    "# Finding Data Type of an Array - dtype"
   ]
  },
  {
   "cell_type": "code",
   "execution_count": 56,
   "id": "5c8ddec8",
   "metadata": {},
   "outputs": [
    {
     "name": "stdout",
     "output_type": "stream",
     "text": [
      "[ 0  1  2  3  4  5  6  7  8  9 10 11 12 13 14 15 16 17 18 19 20 21 22 23]\n"
     ]
    },
    {
     "data": {
      "text/plain": [
       "dtype('int64')"
      ]
     },
     "execution_count": 56,
     "metadata": {},
     "output_type": "execute_result"
    }
   ],
   "source": [
    "a\n",
    "print(a)\n",
    "a.dtype"
   ]
  },
  {
   "cell_type": "markdown",
   "id": "ebdcae58",
   "metadata": {},
   "source": [
    "# Addition in NumPy Array - np.sum"
   ]
  },
  {
   "cell_type": "code",
   "execution_count": 57,
   "id": "6e51653a",
   "metadata": {},
   "outputs": [
    {
     "data": {
      "text/plain": [
       "8"
      ]
     },
     "execution_count": 57,
     "metadata": {},
     "output_type": "execute_result"
    }
   ],
   "source": [
    "np.sum([[1,2],[2,3]])"
   ]
  },
  {
   "cell_type": "code",
   "execution_count": 58,
   "id": "5e7596b7",
   "metadata": {},
   "outputs": [
    {
     "data": {
      "text/plain": [
       "array([3, 5])"
      ]
     },
     "execution_count": 58,
     "metadata": {},
     "output_type": "execute_result"
    }
   ],
   "source": [
    "np.sum([[1,2],[2,3]],axis=0)"
   ]
  },
  {
   "cell_type": "code",
   "execution_count": 59,
   "id": "b89f6aae",
   "metadata": {},
   "outputs": [
    {
     "data": {
      "text/plain": [
       "array([3, 5])"
      ]
     },
     "execution_count": 59,
     "metadata": {},
     "output_type": "execute_result"
    }
   ],
   "source": [
    "np.sum([[1,2],[2,3]],axis=1)"
   ]
  },
  {
   "cell_type": "markdown",
   "id": "c4ae19b8",
   "metadata": {},
   "source": [
    "# Subtraction in NumPy Array - np.subtract"
   ]
  },
  {
   "cell_type": "code",
   "execution_count": 62,
   "id": "388867c2",
   "metadata": {},
   "outputs": [
    {
     "data": {
      "text/plain": [
       "array([2, 1])"
      ]
     },
     "execution_count": 62,
     "metadata": {},
     "output_type": "execute_result"
    }
   ],
   "source": [
    "a = np.array([3,2])\n",
    "b = np.array([1,1])\n",
    "\n",
    "\n",
    "np.subtract(a,b)"
   ]
  },
  {
   "cell_type": "markdown",
   "id": "84af3eba",
   "metadata": {},
   "source": [
    "# Division in NumPy Array - np.divide"
   ]
  },
  {
   "cell_type": "code",
   "execution_count": 63,
   "id": "99f3d24c",
   "metadata": {},
   "outputs": [
    {
     "data": {
      "text/plain": [
       "array([3., 2.])"
      ]
     },
     "execution_count": 63,
     "metadata": {},
     "output_type": "execute_result"
    }
   ],
   "source": [
    "a = np.array([3,2])\n",
    "b = np.array([1,1])\n",
    "\n",
    "np.divide(a,b)"
   ]
  },
  {
   "cell_type": "markdown",
   "id": "fee906c3",
   "metadata": {},
   "source": [
    "# Mulitplication in NumPy Array - np.multiply"
   ]
  },
  {
   "cell_type": "code",
   "execution_count": 64,
   "id": "b9b172e3",
   "metadata": {},
   "outputs": [
    {
     "data": {
      "text/plain": [
       "array([3, 2])"
      ]
     },
     "execution_count": 64,
     "metadata": {},
     "output_type": "execute_result"
    }
   ],
   "source": [
    "np.multiply(a,b)"
   ]
  },
  {
   "cell_type": "markdown",
   "id": "b8714705",
   "metadata": {},
   "source": [
    "# Exponential Operations in NumPy Array - np.exp"
   ]
  },
  {
   "cell_type": "code",
   "execution_count": 67,
   "id": "f698ca1e",
   "metadata": {},
   "outputs": [
    {
     "name": "stdout",
     "output_type": "stream",
     "text": [
      "[2.71828183 2.71828183]\n"
     ]
    }
   ],
   "source": [
    "a = np.array([1,1])\n",
    "\n",
    "print(np.exp(a))\n",
    "\n",
    "e^a === e is euler's number -- log base --"
   ]
  },
  {
   "cell_type": "markdown",
   "id": "5af1f7c8",
   "metadata": {},
   "source": [
    "# Square Root Operations in NumPy Array - np.sqrt"
   ]
  },
  {
   "cell_type": "code",
   "execution_count": 68,
   "id": "fdf6fe94",
   "metadata": {},
   "outputs": [
    {
     "data": {
      "text/plain": [
       "array([0, 1, 2])"
      ]
     },
     "execution_count": 68,
     "metadata": {},
     "output_type": "execute_result"
    }
   ],
   "source": [
    "a = np.arange(3)\n",
    "a\n"
   ]
  },
  {
   "cell_type": "code",
   "execution_count": 69,
   "id": "5b2c6a86",
   "metadata": {},
   "outputs": [
    {
     "data": {
      "text/plain": [
       "array([0.        , 1.        , 1.41421356])"
      ]
     },
     "execution_count": 69,
     "metadata": {},
     "output_type": "execute_result"
    }
   ],
   "source": [
    "np.sqrt(a)"
   ]
  },
  {
   "cell_type": "markdown",
   "id": "d5db8e2a",
   "metadata": {},
   "source": [
    "#  Sin Operations in NumPy Array - np.sin"
   ]
  },
  {
   "cell_type": "code",
   "execution_count": 70,
   "id": "0ddeff96",
   "metadata": {},
   "outputs": [
    {
     "data": {
      "text/plain": [
       "array([0.        , 0.84147098, 0.90929743])"
      ]
     },
     "execution_count": 70,
     "metadata": {},
     "output_type": "execute_result"
    }
   ],
   "source": [
    "np.sin(a)"
   ]
  },
  {
   "cell_type": "markdown",
   "id": "c59e9823",
   "metadata": {},
   "source": [
    "# Cos Operations in NumPy Array - np.cos"
   ]
  },
  {
   "cell_type": "code",
   "execution_count": 71,
   "id": "1ddc1800",
   "metadata": {},
   "outputs": [
    {
     "data": {
      "text/plain": [
       "array([ 1.        ,  0.54030231, -0.41614684])"
      ]
     },
     "execution_count": 71,
     "metadata": {},
     "output_type": "execute_result"
    }
   ],
   "source": [
    "np.cos(a)"
   ]
  },
  {
   "cell_type": "markdown",
   "id": "7ff096d7",
   "metadata": {},
   "source": [
    "# Log Operations in NumPy Array - np.log"
   ]
  },
  {
   "cell_type": "code",
   "execution_count": 72,
   "id": "99b5a9b7",
   "metadata": {},
   "outputs": [
    {
     "name": "stderr",
     "output_type": "stream",
     "text": [
      "<ipython-input-72-89b6b8e53c58>:1: RuntimeWarning: divide by zero encountered in log\n",
      "  np.log(a)\n"
     ]
    },
    {
     "data": {
      "text/plain": [
       "array([      -inf, 0.        , 0.69314718])"
      ]
     },
     "execution_count": 72,
     "metadata": {},
     "output_type": "execute_result"
    }
   ],
   "source": [
    "np.log(a)"
   ]
  },
  {
   "cell_type": "markdown",
   "id": "34a03436",
   "metadata": {},
   "source": [
    "# Element Wise Array Comparision - np.equal"
   ]
  },
  {
   "cell_type": "code",
   "execution_count": 79,
   "id": "87aecdde",
   "metadata": {},
   "outputs": [
    {
     "name": "stdout",
     "output_type": "stream",
     "text": [
      "[0 1 2 3 4 5]\n",
      "[0 1 2 3 4 6]\n"
     ]
    }
   ],
   "source": [
    "a = np.arange(6)\n",
    "b = np.array([0,1,2,3,4,6])\n",
    "\n",
    "print(a)\n",
    "print(b)"
   ]
  },
  {
   "cell_type": "code",
   "execution_count": 76,
   "id": "6d063c4c",
   "metadata": {},
   "outputs": [
    {
     "data": {
      "text/plain": [
       "array([ True,  True,  True,  True,  True,  True])"
      ]
     },
     "execution_count": 76,
     "metadata": {},
     "output_type": "execute_result"
    }
   ],
   "source": [
    "np.equal(a,b)"
   ]
  },
  {
   "cell_type": "markdown",
   "id": "09772c7f",
   "metadata": {},
   "source": [
    "# Array Wise Comparision - np.array_equal"
   ]
  },
  {
   "cell_type": "code",
   "execution_count": 80,
   "id": "b3f8b0a5",
   "metadata": {},
   "outputs": [
    {
     "data": {
      "text/plain": [
       "False"
      ]
     },
     "execution_count": 80,
     "metadata": {},
     "output_type": "execute_result"
    }
   ],
   "source": [
    "np.array_equal(a,b)"
   ]
  },
  {
   "cell_type": "markdown",
   "id": "c071270a",
   "metadata": {},
   "source": [
    "# Aggregate Functions - Sum, Min, Mean, Median, Correlation Co-efficient, Standard Deviation"
   ]
  },
  {
   "cell_type": "code",
   "execution_count": 81,
   "id": "c2dc95d6",
   "metadata": {},
   "outputs": [
    {
     "name": "stdout",
     "output_type": "stream",
     "text": [
      "[0 1 2 3 4 5]\n"
     ]
    }
   ],
   "source": [
    "print(a)"
   ]
  },
  {
   "cell_type": "code",
   "execution_count": 85,
   "id": "b9e6b751",
   "metadata": {},
   "outputs": [
    {
     "data": {
      "text/plain": [
       "1.707825127659933"
      ]
     },
     "execution_count": 85,
     "metadata": {},
     "output_type": "execute_result"
    }
   ],
   "source": [
    "np.std(a)"
   ]
  },
  {
   "cell_type": "markdown",
   "id": "52094545",
   "metadata": {},
   "source": [
    "# BroadCasting"
   ]
  },
  {
   "cell_type": "code",
   "execution_count": 86,
   "id": "7a026fca",
   "metadata": {},
   "outputs": [
    {
     "data": {
      "text/plain": [
       "array([3, 4, 5])"
      ]
     },
     "execution_count": 86,
     "metadata": {},
     "output_type": "execute_result"
    }
   ],
   "source": [
    "## Scalar and 1D Array\n",
    "\n",
    "a = np.array([1,2,3])\n",
    "b = 2\n",
    "\n",
    "a + b"
   ]
  },
  {
   "cell_type": "code",
   "execution_count": 87,
   "id": "734cd3f2",
   "metadata": {},
   "outputs": [
    {
     "data": {
      "text/plain": [
       "array([[3, 4, 5],\n",
       "       [6, 7, 8]])"
      ]
     },
     "execution_count": 87,
     "metadata": {},
     "output_type": "execute_result"
    }
   ],
   "source": [
    "## Scalar and 2D Array\n",
    "\n",
    "a = np.array([[1,2,3],[4,5,6]])\n",
    "b = 2\n",
    "\n",
    "a + b"
   ]
  },
  {
   "cell_type": "code",
   "execution_count": null,
   "id": "b2c73efa",
   "metadata": {},
   "outputs": [],
   "source": []
  },
  {
   "cell_type": "markdown",
   "id": "7ed775d2",
   "metadata": {},
   "source": [
    "# Indexing and Slicing - Python and Numpy"
   ]
  },
  {
   "cell_type": "code",
   "execution_count": 95,
   "id": "369debed",
   "metadata": {},
   "outputs": [
    {
     "name": "stdout",
     "output_type": "stream",
     "text": [
      "['a', 'b', 'c', 'd', 'e']\n"
     ]
    },
    {
     "data": {
      "text/plain": [
       "'a'"
      ]
     },
     "execution_count": 95,
     "metadata": {},
     "output_type": "execute_result"
    }
   ],
   "source": [
    "a = ['a','b','c','d','e']\n",
    "print(a)\n",
    "\n",
    "a[0]"
   ]
  },
  {
   "cell_type": "code",
   "execution_count": 89,
   "id": "577c2929",
   "metadata": {},
   "outputs": [
    {
     "data": {
      "text/plain": [
       "'c'"
      ]
     },
     "execution_count": 89,
     "metadata": {},
     "output_type": "execute_result"
    }
   ],
   "source": [
    "a[2]"
   ]
  },
  {
   "cell_type": "code",
   "execution_count": 90,
   "id": "bcd928c7",
   "metadata": {},
   "outputs": [
    {
     "data": {
      "text/plain": [
       "['b', 'c', 'd']"
      ]
     },
     "execution_count": 90,
     "metadata": {},
     "output_type": "execute_result"
    }
   ],
   "source": [
    "a[1:4]\n",
    "\n",
    "1 -- taken into consideration\n",
    "4 is not"
   ]
  },
  {
   "cell_type": "code",
   "execution_count": 91,
   "id": "f44eebf1",
   "metadata": {},
   "outputs": [
    {
     "data": {
      "text/plain": [
       "['a', 'b', 'c']"
      ]
     },
     "execution_count": 91,
     "metadata": {},
     "output_type": "execute_result"
    }
   ],
   "source": [
    "a[-5:-2]"
   ]
  },
  {
   "cell_type": "markdown",
   "id": "6890e572",
   "metadata": {},
   "source": [
    "# Indexing and Slicing in 2D Array"
   ]
  },
  {
   "cell_type": "code",
   "execution_count": 97,
   "id": "066267bd",
   "metadata": {},
   "outputs": [
    {
     "name": "stdout",
     "output_type": "stream",
     "text": [
      "[[1 2 3]\n",
      " [4 5 6]\n",
      " [7 8 9]]\n"
     ]
    }
   ],
   "source": [
    "a = np.array([[1,2,3],[4,5,6],[7,8,9]])\n",
    "print(a)"
   ]
  },
  {
   "cell_type": "code",
   "execution_count": 98,
   "id": "112d7c34",
   "metadata": {},
   "outputs": [
    {
     "data": {
      "text/plain": [
       "array([1, 2, 3])"
      ]
     },
     "execution_count": 98,
     "metadata": {},
     "output_type": "execute_result"
    }
   ],
   "source": [
    "a[0]"
   ]
  },
  {
   "cell_type": "code",
   "execution_count": 99,
   "id": "5a84c982",
   "metadata": {},
   "outputs": [
    {
     "data": {
      "text/plain": [
       "5"
      ]
     },
     "execution_count": 99,
     "metadata": {},
     "output_type": "execute_result"
    }
   ],
   "source": [
    "a[1,1]"
   ]
  },
  {
   "cell_type": "code",
   "execution_count": 100,
   "id": "905a9981",
   "metadata": {},
   "outputs": [
    {
     "data": {
      "text/plain": [
       "array([[1],\n",
       "       [4]])"
      ]
     },
     "execution_count": 100,
     "metadata": {},
     "output_type": "execute_result"
    }
   ],
   "source": [
    "a[:2,:1]\n",
    "## a[row,column]"
   ]
  },
  {
   "cell_type": "code",
   "execution_count": 101,
   "id": "40700d75",
   "metadata": {},
   "outputs": [
    {
     "data": {
      "text/plain": [
       "array([7, 8, 9])"
      ]
     },
     "execution_count": 101,
     "metadata": {},
     "output_type": "execute_result"
    }
   ],
   "source": [
    "a[2]"
   ]
  },
  {
   "cell_type": "code",
   "execution_count": 102,
   "id": "740844fc",
   "metadata": {},
   "outputs": [
    {
     "data": {
      "text/plain": [
       "array([7, 8, 9])"
      ]
     },
     "execution_count": 102,
     "metadata": {},
     "output_type": "execute_result"
    }
   ],
   "source": [
    "a[2,:]"
   ]
  },
  {
   "cell_type": "code",
   "execution_count": null,
   "id": "20c47e99",
   "metadata": {},
   "outputs": [],
   "source": []
  },
  {
   "cell_type": "markdown",
   "id": "da2834d4",
   "metadata": {},
   "source": [
    "# Array Concatenation"
   ]
  },
  {
   "cell_type": "code",
   "execution_count": 108,
   "id": "5f9078a7",
   "metadata": {},
   "outputs": [
    {
     "data": {
      "text/plain": [
       "array([1, 2, 3, 4, 5, 6])"
      ]
     },
     "execution_count": 108,
     "metadata": {},
     "output_type": "execute_result"
    }
   ],
   "source": [
    "a = np.array([1,2,3])\n",
    "b = np.array([4,5,6])\n",
    "\n",
    "np.concatenate((a,b),axis=0)"
   ]
  },
  {
   "cell_type": "markdown",
   "id": "ddb5cb90",
   "metadata": {},
   "source": [
    "# Stacking Arrays Vertically"
   ]
  },
  {
   "cell_type": "code",
   "execution_count": 111,
   "id": "7319621f",
   "metadata": {},
   "outputs": [
    {
     "name": "stdout",
     "output_type": "stream",
     "text": [
      "[[1 2 3]\n",
      " [4 5 6]]\n",
      "(2, 3)\n"
     ]
    }
   ],
   "source": [
    "c = np.vstack((a,b))\n",
    "\n",
    "print(c)\n",
    "print(c.shape)\n"
   ]
  },
  {
   "cell_type": "markdown",
   "id": "ef30cb8b",
   "metadata": {},
   "source": [
    "# Stacking Arrays Horizontally"
   ]
  },
  {
   "cell_type": "code",
   "execution_count": 112,
   "id": "26490c95",
   "metadata": {},
   "outputs": [
    {
     "data": {
      "text/plain": [
       "array([1, 2, 3, 4, 5, 6])"
      ]
     },
     "execution_count": 112,
     "metadata": {},
     "output_type": "execute_result"
    }
   ],
   "source": [
    "c = np.hstack((a,b))\n",
    "c"
   ]
  },
  {
   "cell_type": "markdown",
   "id": "898e97f3",
   "metadata": {},
   "source": [
    "# Combining Column Wise - Stacked Array"
   ]
  },
  {
   "cell_type": "code",
   "execution_count": 113,
   "id": "e39f9343",
   "metadata": {},
   "outputs": [
    {
     "data": {
      "text/plain": [
       "array([[1, 4],\n",
       "       [2, 5],\n",
       "       [3, 6]])"
      ]
     },
     "execution_count": 113,
     "metadata": {},
     "output_type": "execute_result"
    }
   ],
   "source": [
    "np.column_stack((a,b))"
   ]
  },
  {
   "cell_type": "markdown",
   "id": "627b6e0f",
   "metadata": {},
   "source": [
    "# Splitting Arrays - Horizontally"
   ]
  },
  {
   "cell_type": "code",
   "execution_count": 12,
   "id": "59a45bd9",
   "metadata": {},
   "outputs": [
    {
     "name": "stdout",
     "output_type": "stream",
     "text": [
      "[ 0  1  2  3  4  5  6  7  8  9 10 11 12 13 14 15]\n"
     ]
    }
   ],
   "source": [
    "x = np.arange(16)\n",
    "print(x)"
   ]
  },
  {
   "cell_type": "code",
   "execution_count": 13,
   "id": "0df250c7",
   "metadata": {},
   "outputs": [
    {
     "data": {
      "text/plain": [
       "array([[ 0,  1,  2,  3],\n",
       "       [ 4,  5,  6,  7],\n",
       "       [ 8,  9, 10, 11],\n",
       "       [12, 13, 14, 15]])"
      ]
     },
     "execution_count": 13,
     "metadata": {},
     "output_type": "execute_result"
    }
   ],
   "source": [
    "x.reshape(4,4)"
   ]
  },
  {
   "cell_type": "code",
   "execution_count": 14,
   "id": "806148fd",
   "metadata": {},
   "outputs": [
    {
     "data": {
      "text/plain": [
       "array([[ 0,  1,  2,  3],\n",
       "       [ 4,  5,  6,  7],\n",
       "       [ 8,  9, 10, 11],\n",
       "       [12, 13, 14, 15]])"
      ]
     },
     "execution_count": 14,
     "metadata": {},
     "output_type": "execute_result"
    }
   ],
   "source": [
    "y = x.reshape(4,4)\n",
    "y"
   ]
  },
  {
   "cell_type": "code",
   "execution_count": 17,
   "id": "b37841a7",
   "metadata": {},
   "outputs": [],
   "source": [
    "z = np.hsplit(y, 2)"
   ]
  },
  {
   "cell_type": "code",
   "execution_count": 21,
   "id": "7e8da1a9",
   "metadata": {},
   "outputs": [
    {
     "data": {
      "text/plain": [
       "[array([[ 0,  1],\n",
       "        [ 4,  5],\n",
       "        [ 8,  9],\n",
       "        [12, 13]]),\n",
       " array([[ 2,  3],\n",
       "        [ 6,  7],\n",
       "        [10, 11],\n",
       "        [14, 15]])]"
      ]
     },
     "execution_count": 21,
     "metadata": {},
     "output_type": "execute_result"
    }
   ],
   "source": [
    "z"
   ]
  },
  {
   "cell_type": "markdown",
   "id": "a723e0d1",
   "metadata": {},
   "source": [
    "# Splitting Arrays - Vertically"
   ]
  },
  {
   "cell_type": "code",
   "execution_count": 130,
   "id": "2f0aa51a",
   "metadata": {},
   "outputs": [
    {
     "data": {
      "text/plain": [
       "[array([[0, 1, 2, 3],\n",
       "        [4, 5, 6, 7]]),\n",
       " array([[ 8,  9, 10, 11],\n",
       "        [12, 13, 14, 15]])]"
      ]
     },
     "execution_count": 130,
     "metadata": {},
     "output_type": "execute_result"
    }
   ],
   "source": [
    "np.vsplit(y,2)"
   ]
  },
  {
   "cell_type": "markdown",
   "id": "31818545",
   "metadata": {},
   "source": [
    "# Advantage of NumPy over List - Comparison of Speed and Memory"
   ]
  },
  {
   "cell_type": "code",
   "execution_count": 132,
   "id": "7d3f053d",
   "metadata": {},
   "outputs": [
    {
     "name": "stdout",
     "output_type": "stream",
     "text": [
      "Size of each element in the python list in bytes is: 48\n",
      "Size of entire python array/list in bytes is: 48000\n"
     ]
    }
   ],
   "source": [
    "## Memory \n",
    "\n",
    "import sys\n",
    "\n",
    "py_array = range(1000)\n",
    "\n",
    "print(\"Size of each element in the python list in bytes is:\", sys.getsizeof(py_array))\n",
    "\n",
    "print(\"Size of entire python array/list in bytes is:\", sys.getsizeof(py_array)*len(py_array))"
   ]
  },
  {
   "cell_type": "code",
   "execution_count": 133,
   "id": "d99837eb",
   "metadata": {},
   "outputs": [
    {
     "name": "stdout",
     "output_type": "stream",
     "text": [
      "Size of each element in the numpy array is: 8\n",
      "Size of all the elements in the numpy array is:  8000\n"
     ]
    }
   ],
   "source": [
    "np_array = np.arange(1000)\n",
    "\n",
    "print(\"Size of each element in the numpy array is:\", np_array.itemsize)\n",
    "\n",
    "print(\"Size of all the elements in the numpy array is: \", np_array.itemsize * np_array.size)"
   ]
  },
  {
   "cell_type": "code",
   "execution_count": null,
   "id": "044fe179",
   "metadata": {},
   "outputs": [],
   "source": [
    "## Vectorization\n",
    "## Multiprocessing"
   ]
  },
  {
   "cell_type": "code",
   "execution_count": 135,
   "id": "63dc6c8e",
   "metadata": {},
   "outputs": [
    {
     "name": "stdout",
     "output_type": "stream",
     "text": [
      "Total time taken for resulting list based on python is: 0.0002319812774658203 seconds\n"
     ]
    }
   ],
   "source": [
    "## Speed\n",
    "\n",
    "import time\n",
    "\n",
    "list_1 = range(1000)\n",
    "list_2 = range(1000)\n",
    "\n",
    "\n",
    "np_array1 = np.arange(1000)\n",
    "np_array2 = np.arange(1000)\n",
    "\n",
    "\n",
    "initial_time = time.time()\n",
    "\n",
    "resultant_list = [(a*b) for a , b in zip(list_1,list_2)]\n",
    "\n",
    "print(\"Total time taken for resulting list based on python is:\", (time.time()-initial_time),\"seconds\")"
   ]
  },
  {
   "cell_type": "code",
   "execution_count": 136,
   "id": "6872bbed",
   "metadata": {},
   "outputs": [
    {
     "name": "stdout",
     "output_type": "stream",
     "text": [
      "Total time taken for resultant array based on NumPy is: 0.0001430511474609375 seconds\n"
     ]
    }
   ],
   "source": [
    "initial_time = time.time()\n",
    "\n",
    "resultant_array = np_array1 * np_array2\n",
    "\n",
    "print(\"Total time taken for resultant array based on NumPy is:\", (time.time()-initial_time),\"seconds\")"
   ]
  },
  {
   "cell_type": "code",
   "execution_count": 1,
   "id": "775f2234",
   "metadata": {},
   "outputs": [],
   "source": [
    "import numpy as np"
   ]
  },
  {
   "cell_type": "code",
   "execution_count": 6,
   "id": "fd7b304d",
   "metadata": {},
   "outputs": [],
   "source": [
    "a = np.array([[1,2,3,4,5,5]])"
   ]
  },
  {
   "cell_type": "code",
   "execution_count": 8,
   "id": "f9d95039",
   "metadata": {},
   "outputs": [
    {
     "data": {
      "text/plain": [
       "(1, 6)"
      ]
     },
     "execution_count": 8,
     "metadata": {},
     "output_type": "execute_result"
    }
   ],
   "source": [
    "a.shape"
   ]
  },
  {
   "cell_type": "code",
   "execution_count": 25,
   "id": "58c50b26",
   "metadata": {},
   "outputs": [],
   "source": [
    "b = np.array([15, 16, 17, 19, 20, 21])"
   ]
  },
  {
   "cell_type": "code",
   "execution_count": 26,
   "id": "9b77edcd",
   "metadata": {},
   "outputs": [
    {
     "data": {
      "text/plain": [
       "array([[ 15,  32,  51,  76, 100, 105]])"
      ]
     },
     "execution_count": 26,
     "metadata": {},
     "output_type": "execute_result"
    }
   ],
   "source": [
    "a*b"
   ]
  },
  {
   "cell_type": "code",
   "execution_count": null,
   "id": "a3489923",
   "metadata": {},
   "outputs": [],
   "source": []
  }
 ],
 "metadata": {
  "kernelspec": {
   "display_name": "Python 3",
   "language": "python",
   "name": "python3"
  },
  "language_info": {
   "codemirror_mode": {
    "name": "ipython",
    "version": 3
   },
   "file_extension": ".py",
   "mimetype": "text/x-python",
   "name": "python",
   "nbconvert_exporter": "python",
   "pygments_lexer": "ipython3",
   "version": "3.8.8"
  }
 },
 "nbformat": 4,
 "nbformat_minor": 5
}
