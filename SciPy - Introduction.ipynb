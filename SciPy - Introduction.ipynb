{
 "cells": [
  {
   "cell_type": "code",
   "execution_count": 1,
   "id": "2b372b88",
   "metadata": {},
   "outputs": [],
   "source": [
    "import numpy as np"
   ]
  },
  {
   "cell_type": "code",
   "execution_count": 2,
   "id": "7652608d",
   "metadata": {},
   "outputs": [],
   "source": [
    "import scipy"
   ]
  },
  {
   "cell_type": "code",
   "execution_count": 3,
   "id": "c024cd25",
   "metadata": {},
   "outputs": [],
   "source": [
    "import pandas"
   ]
  },
  {
   "cell_type": "code",
   "execution_count": 4,
   "id": "6c226612",
   "metadata": {},
   "outputs": [],
   "source": [
    "import matplotlib.pyplot as plt"
   ]
  },
  {
   "cell_type": "code",
   "execution_count": 5,
   "id": "041e07a8",
   "metadata": {},
   "outputs": [],
   "source": [
    "## Clustering\n",
    "\n",
    "from scipy.cluster.vq import kmeans, vq, whiten"
   ]
  },
  {
   "cell_type": "code",
   "execution_count": 6,
   "id": "0a55253c",
   "metadata": {},
   "outputs": [],
   "source": [
    "data = np.array([[1,3,4,5,2], [2,3,1,6,3], [1,5,2,3,1], [3,4,9,2,1]])"
   ]
  },
  {
   "cell_type": "code",
   "execution_count": 7,
   "id": "f2428452",
   "metadata": {},
   "outputs": [],
   "source": [
    "data = whiten(data)\n",
    "\n",
    "## feature 1 is in cm\n",
    "## feature 2 is in m\n",
    "\n",
    "\n",
    "## Well have to have ensure that all the features in the dataset actually have the same measure\n"
   ]
  },
  {
   "cell_type": "code",
   "execution_count": 8,
   "id": "e35c5d8b",
   "metadata": {},
   "outputs": [
    {
     "data": {
      "text/plain": [
       "array([[1.20604538, 3.61813613, 1.29777137, 3.16227766, 2.41209076],\n",
       "       [2.41209076, 3.61813613, 0.32444284, 3.79473319, 3.61813613],\n",
       "       [1.20604538, 6.03022689, 0.64888568, 1.8973666 , 1.20604538],\n",
       "       [3.61813613, 4.82418151, 2.91998558, 1.26491106, 1.20604538]])"
      ]
     },
     "execution_count": 8,
     "metadata": {},
     "output_type": "execute_result"
    }
   ],
   "source": [
    "data"
   ]
  },
  {
   "cell_type": "code",
   "execution_count": 9,
   "id": "5b8abbce",
   "metadata": {},
   "outputs": [],
   "source": [
    "centroids, mean_value = kmeans(data, 3)"
   ]
  },
  {
   "cell_type": "code",
   "execution_count": 10,
   "id": "4de53d46",
   "metadata": {},
   "outputs": [
    {
     "name": "stdout",
     "output_type": "stream",
     "text": [
      "The centroids are [[3.61813613 4.82418151 2.91998558 1.26491106 1.20604538]\n",
      " [1.80906807 3.61813613 0.81110711 3.47850543 3.01511345]\n",
      " [1.20604538 6.03022689 0.64888568 1.8973666  1.20604538]]\n",
      "The mean euclidean distance is 0.5158\n"
     ]
    }
   ],
   "source": [
    "print(\"The centroids are\", centroids)\n",
    "\n",
    "print(\"The mean euclidean distance is\", mean_value.round(4))"
   ]
  },
  {
   "cell_type": "code",
   "execution_count": null,
   "id": "f209218d",
   "metadata": {},
   "outputs": [],
   "source": [
    "## Euclidean distance -- squareroot(x2-x1^2) + (y2-y1^2))"
   ]
  },
  {
   "cell_type": "code",
   "execution_count": 11,
   "id": "aefc3cd7",
   "metadata": {},
   "outputs": [],
   "source": [
    "## SciPy Stats"
   ]
  },
  {
   "cell_type": "code",
   "execution_count": 14,
   "id": "962dd2a5",
   "metadata": {},
   "outputs": [
    {
     "data": {
      "text/plain": [
       "13"
      ]
     },
     "execution_count": 14,
     "metadata": {},
     "output_type": "execute_result"
    }
   ],
   "source": [
    "sugar = np.array([15, 18, 20, 26, 32, 38, 32, 24, 21, 16, 12, 11, 14])\n",
    "\n",
    "len(sugar)\n",
    "\n"
   ]
  },
  {
   "cell_type": "code",
   "execution_count": 16,
   "id": "1863a703",
   "metadata": {},
   "outputs": [
    {
     "data": {
      "text/plain": [
       "21.46153846153846"
      ]
     },
     "execution_count": 16,
     "metadata": {},
     "output_type": "execute_result"
    }
   ],
   "source": [
    "sugar.mean() -- average"
   ]
  },
  {
   "cell_type": "code",
   "execution_count": 17,
   "id": "5d1fd16c",
   "metadata": {},
   "outputs": [
    {
     "data": {
      "text/plain": [
       "8.148764744665618"
      ]
     },
     "execution_count": 17,
     "metadata": {},
     "output_type": "execute_result"
    }
   ],
   "source": [
    "## Standard Deviation \n",
    "\n",
    "sugar.std()\n"
   ]
  },
  {
   "cell_type": "code",
   "execution_count": 19,
   "id": "d325f698",
   "metadata": {},
   "outputs": [
    {
     "name": "stdout",
     "output_type": "stream",
     "text": [
      "[15 18 20 26 32 38 32 24 21 16 12 11 14]\n",
      "[-0.79294699 -0.42479303 -0.17935706  0.55695086  1.29325878  2.0295667\n",
      "  1.29325878  0.31151489 -0.05663907 -0.670229   -1.16110095 -1.28381893\n",
      " -0.91566497]\n"
     ]
    }
   ],
   "source": [
    "## Standardized Z Score -- \n",
    "\n",
    "from scipy import stats\n",
    "\n",
    "print(sugar)\n",
    "print(stats.zscore(sugar))\n",
    "\n"
   ]
  },
  {
   "cell_type": "code",
   "execution_count": 36,
   "id": "d51690d0",
   "metadata": {},
   "outputs": [],
   "source": [
    "## Contingency\n",
    "\n",
    "obs = np.array([[7,1,3], [87,18,84], [12,3,4], [9,1,7]])\n",
    "\n",
    "from scipy import stats\n",
    "\n",
    "chi2, p, dof, expected = stats.chi2_contingency(obs)\n",
    "\n",
    "\n"
   ]
  },
  {
   "cell_type": "code",
   "execution_count": 37,
   "id": "15affd53",
   "metadata": {},
   "outputs": [
    {
     "data": {
      "text/plain": [
       "0.48284216946545633"
      ]
     },
     "execution_count": 37,
     "metadata": {},
     "output_type": "execute_result"
    }
   ],
   "source": [
    "p < 0.05"
   ]
  },
  {
   "cell_type": "code",
   "execution_count": 25,
   "id": "d313d6d2",
   "metadata": {},
   "outputs": [
    {
     "name": "stdout",
     "output_type": "stream",
     "text": [
      "1.6.2\n"
     ]
    }
   ],
   "source": [
    "print(scipy.__version__)"
   ]
  },
  {
   "cell_type": "code",
   "execution_count": 26,
   "id": "b7ac513a",
   "metadata": {},
   "outputs": [],
   "source": [
    "## scipy.optimize()\n",
    "\n",
    "\n",
    "from scipy import optimize"
   ]
  },
  {
   "cell_type": "code",
   "execution_count": 35,
   "id": "f6a85755",
   "metadata": {},
   "outputs": [
    {
     "name": "stdout",
     "output_type": "stream",
     "text": [
      "[0.  0.1 0.2 0.3 0.4 0.5 0.6 0.7 0.8 0.9]\n"
     ]
    },
    {
     "data": {
      "text/plain": [
       "array([-0.61262639, -0.69767633, -0.77880078, -0.85214379, -0.91393119,\n",
       "       -0.96078944, -0.99004983, -1.        , -0.99004983, -0.96078944])"
      ]
     },
     "execution_count": 35,
     "metadata": {},
     "output_type": "execute_result"
    }
   ],
   "source": [
    "x = np.arange(0.0, 1.0, 0.1)\n",
    "\n",
    "def f(x):\n",
    "    return -np.exp(-(x-0.7)**2)\n",
    "print(x)\n",
    "f(x)"
   ]
  },
  {
   "cell_type": "code",
   "execution_count": 31,
   "id": "1bd52b37",
   "metadata": {},
   "outputs": [
    {
     "data": {
      "text/plain": [
       "[<matplotlib.lines.Line2D at 0x7f864fb9a250>]"
      ]
     },
     "execution_count": 31,
     "metadata": {},
     "output_type": "execute_result"
    },
    {
     "data": {
      "image/png": "[encoded data removed]",
      "text/plain": [
       "<Figure size 432x288 with 1 Axes>"
      ]
     },
     "metadata": {
      "needs_background": "light"
     },
     "output_type": "display_data"
    }
   ],
   "source": [
    "plt.plot(x, f(x), 'o-')"
   ]
  },
  {
   "cell_type": "code",
   "execution_count": 32,
   "id": "35aa5d7c",
   "metadata": {},
   "outputs": [],
   "source": [
    "result = optimize.minimize_scalar(f)"
   ]
  },
  {
   "cell_type": "code",
   "execution_count": 33,
   "id": "12114a75",
   "metadata": {},
   "outputs": [],
   "source": [
    "x_min = result.x"
   ]
  },
  {
   "cell_type": "code",
   "execution_count": 34,
   "id": "31c8a1fe",
   "metadata": {},
   "outputs": [
    {
     "name": "stdout",
     "output_type": "stream",
     "text": [
      "0.6999999997839409\n"
     ]
    }
   ],
   "source": [
    "print(x_min)"
   ]
  },
  {
   "cell_type": "code",
   "execution_count": 62,
   "id": "d2187ff3",
   "metadata": {},
   "outputs": [
    {
     "name": "stdout",
     "output_type": "stream",
     "text": [
      "0.33333333333333337\n"
     ]
    }
   ],
   "source": [
    "## Integration\n",
    "\n",
    "## SciPy.integrate\n",
    "\n",
    "import scipy.integrate as intg\n",
    "\n",
    "def integrate(x):\n",
    "    return x**2\n",
    "\n",
    "answer, _ = intg.quad(integrate, 0, 1)\n",
    "print(answer)\n",
    "\n",
    "\n",
    "\n"
   ]
  },
  {
   "cell_type": "code",
   "execution_count": 40,
   "id": "0d5f7e8e",
   "metadata": {},
   "outputs": [
    {
     "data": {
      "text/plain": [
       "(0.6666666666666667, 7.401486830834377e-15)"
      ]
     },
     "execution_count": 40,
     "metadata": {},
     "output_type": "execute_result"
    }
   ],
   "source": [
    "## Compute double integrate of x*y**2 over x = 0 and x = 2, y = 0 to 1\n",
    "\n",
    "f = lambda y, x:x*y**2\n",
    "\n",
    "intg.dblquad(f, 0, 2, lambda x:0, lambda x:1)\n",
    "\n",
    "\n"
   ]
  },
  {
   "cell_type": "code",
   "execution_count": 41,
   "id": "60e8cca0",
   "metadata": {},
   "outputs": [],
   "source": [
    "## Scipy.linalg\n",
    "\n",
    "from scipy import linalg"
   ]
  },
  {
   "cell_type": "code",
   "execution_count": 42,
   "id": "1ffee6a4",
   "metadata": {},
   "outputs": [
    {
     "data": {
      "text/plain": [
       "array([[1, 2, 3],\n",
       "       [3, 4, 5],\n",
       "       [5, 6, 7]])"
      ]
     },
     "execution_count": 42,
     "metadata": {},
     "output_type": "execute_result"
    }
   ],
   "source": [
    "data = np.array([[1,2,3],[3,4,5],[5,6,7]])\n",
    "\n",
    "data"
   ]
  },
  {
   "cell_type": "code",
   "execution_count": 43,
   "id": "8af53068",
   "metadata": {},
   "outputs": [
    {
     "data": {
      "text/plain": [
       "array([[-1.18515780e+15,  2.37031559e+15, -1.18515780e+15],\n",
       "       [ 2.37031559e+15, -4.74063119e+15,  2.37031559e+15],\n",
       "       [-1.18515780e+15,  2.37031559e+15, -1.18515780e+15]])"
      ]
     },
     "execution_count": 43,
     "metadata": {},
     "output_type": "execute_result"
    }
   ],
   "source": [
    "linalg.inv(data)"
   ]
  },
  {
   "cell_type": "code",
   "execution_count": 44,
   "id": "cdb5a064",
   "metadata": {},
   "outputs": [
    {
     "data": {
      "text/plain": [
       "-1.1842378929335004e-15"
      ]
     },
     "execution_count": 44,
     "metadata": {},
     "output_type": "execute_result"
    }
   ],
   "source": [
    "linalg.det(data)"
   ]
  },
  {
   "cell_type": "code",
   "execution_count": 45,
   "id": "03671f89",
   "metadata": {},
   "outputs": [
    {
     "data": {
      "text/plain": [
       "array([[1, 2, 3],\n",
       "       [3, 4, 5],\n",
       "       [5, 6, 7]])"
      ]
     },
     "execution_count": 45,
     "metadata": {},
     "output_type": "execute_result"
    }
   ],
   "source": [
    "data"
   ]
  },
  {
   "cell_type": "code",
   "execution_count": 46,
   "id": "4daf4542",
   "metadata": {},
   "outputs": [
    {
     "data": {
      "text/plain": [
       "array([[-1.18515780e+15,  2.37031559e+15, -1.18515780e+15],\n",
       "       [ 2.37031559e+15, -4.74063119e+15,  2.37031559e+15],\n",
       "       [-1.18515780e+15,  2.37031559e+15, -1.18515780e+15]])"
      ]
     },
     "execution_count": 46,
     "metadata": {},
     "output_type": "execute_result"
    }
   ],
   "source": [
    "linalg.inv(data)"
   ]
  },
  {
   "cell_type": "code",
   "execution_count": 47,
   "id": "cb77c270",
   "metadata": {},
   "outputs": [],
   "source": [
    "## Factorization machine or recommonder systems\n",
    "## Image processing - rgb data (pixel data)\n",
    "\n"
   ]
  },
  {
   "cell_type": "code",
   "execution_count": 49,
   "id": "e4193bac",
   "metadata": {},
   "outputs": [],
   "source": [
    "## FFT - Fast Fourier Transformation\n",
    "\n",
    "time_step = 0.02\n",
    "\n",
    "period = 5\n",
    "\n",
    "time_vec = np.arange(0, 20, time_step)\n",
    "\n",
    "\n",
    "sig = np.sin(2*np.pi/period*time_vec)\n",
    "\n"
   ]
  },
  {
   "cell_type": "code",
   "execution_count": 51,
   "id": "b6eebaa6",
   "metadata": {},
   "outputs": [
    {
     "data": {
      "text/plain": [
       "[<matplotlib.lines.Line2D at 0x7f864fcb5790>]"
      ]
     },
     "execution_count": 51,
     "metadata": {},
     "output_type": "execute_result"
    },
    {
     "data": {
      "image/png": "[encoded data removed]",
      "text/plain": [
       "<Figure size 432x288 with 1 Axes>"
      ]
     },
     "metadata": {
      "needs_background": "light"
     },
     "output_type": "display_data"
    }
   ],
   "source": [
    "plt.plot(time_vec, sig)"
   ]
  },
  {
   "cell_type": "code",
   "execution_count": 52,
   "id": "ced87f53",
   "metadata": {},
   "outputs": [],
   "source": [
    "from scipy import fftpack"
   ]
  },
  {
   "cell_type": "code",
   "execution_count": 53,
   "id": "7e690028",
   "metadata": {},
   "outputs": [],
   "source": [
    "sample_freq = fftpack.fftfreq(sig.size, d=time_step)"
   ]
  },
  {
   "cell_type": "code",
   "execution_count": 54,
   "id": "be1d172b",
   "metadata": {},
   "outputs": [],
   "source": [
    "## Apply fft() to find discrete fourier transform"
   ]
  },
  {
   "cell_type": "code",
   "execution_count": 55,
   "id": "3d911da1",
   "metadata": {},
   "outputs": [],
   "source": [
    "sig_fft = fftpack.fft(sig)"
   ]
  },
  {
   "cell_type": "code",
   "execution_count": 57,
   "id": "bad523aa",
   "metadata": {},
   "outputs": [
    {
     "data": {
      "image/png": "[encoded data removed]",
      "text/plain": [
       "<Figure size 1440x360 with 1 Axes>"
      ]
     },
     "metadata": {
      "needs_background": "light"
     },
     "output_type": "display_data"
    }
   ],
   "source": [
    "## Calculate teh absolute value element wise\n",
    "\n",
    "power = np.abs(sig_fft)\n",
    "\n",
    "plt.figure(figsize=(20,5))\n",
    "\n",
    "plt.plot(sample_freq, power)\n",
    "\n",
    "plt.show()"
   ]
  },
  {
   "cell_type": "code",
   "execution_count": 58,
   "id": "add7844e",
   "metadata": {},
   "outputs": [],
   "source": [
    "## Filtering out sample frequencies that are greater than 0"
   ]
  },
  {
   "cell_type": "code",
   "execution_count": 60,
   "id": "41b95f2a",
   "metadata": {},
   "outputs": [],
   "source": [
    "pos_mask = np.where(sample_freq>0)"
   ]
  },
  {
   "cell_type": "code",
   "execution_count": 61,
   "id": "71a2bd0b",
   "metadata": {},
   "outputs": [],
   "source": [
    "## Apply the filter on sample frequency and store the +ve sample_frequencies to a variable called freq"
   ]
  },
  {
   "cell_type": "code",
   "execution_count": null,
   "id": "d14c0349",
   "metadata": {},
   "outputs": [],
   "source": []
  }
 ],
 "metadata": {
  "kernelspec": {
   "display_name": "Python 3",
   "language": "python",
   "name": "python3"
  },
  "language_info": {
   "codemirror_mode": {
    "name": "ipython",
    "version": 3
   },
   "file_extension": ".py",
   "mimetype": "text/x-python",
   "name": "python",
   "nbconvert_exporter": "python",
   "pygments_lexer": "ipython3",
   "version": "3.8.8"
  }
 },
 "nbformat": 4,
 "nbformat_minor": 5
}
